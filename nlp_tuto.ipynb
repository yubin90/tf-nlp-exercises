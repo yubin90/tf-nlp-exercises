{
 "cells": [
  {
   "cell_type": "markdown",
   "metadata": {},
   "source": [
    "###  "
   ]
  },
  {
   "cell_type": "code",
   "execution_count": 4,
   "metadata": {},
   "outputs": [
    {
     "name": "stdout",
     "output_type": "stream",
     "text": [
      "Cloning into 'tensorflow-ml-nlp'...\n",
      "remote: Enumerating objects: 64, done.\u001b[K\n",
      "remote: Counting objects: 100% (64/64), done.\u001b[K\n",
      "remote: Compressing objects: 100% (49/49), done.\u001b[K\n",
      "remote: Total 842 (delta 30), reused 27 (delta 15), pack-reused 778\u001b[K\n",
      "Receiving objects: 100% (842/842), 160.14 MiB | 5.74 MiB/s, done.\n",
      "Resolving deltas: 100% (497/497), done.\n",
      "Checking out files: 100% (100/100), done.\n"
     ]
    }
   ],
   "source": [
    "#!conda create -n nlp_tuto python=3.6 anaconda --yes\n",
    "#!source activate nlp_tuto\n",
    "#!nvcc --version\n",
    "!git clone https://github.com/NLP-kr/tensorflow-ml-nlp.git"
   ]
  },
  {
   "cell_type": "code",
   "execution_count": 7,
   "metadata": {},
   "outputs": [],
   "source": [
    "#tf.data module test\n",
    "import os\n",
    "import tensorflow as tf\n",
    "import numpy as np\n",
    "from tensorflow.keras import preprocessing\n",
    "from IPython.core.interactiveshell import InteractiveShell\n",
    "InteractiveShell.ast_node_interactivity = \"all\""
   ]
  },
  {
   "cell_type": "code",
   "execution_count": 20,
   "metadata": {},
   "outputs": [
    {
     "name": "stdout",
     "output_type": "stream",
     "text": [
      "[[4, 1, 5, 6], [7, 1, 8, 9], [10, 2, 3, 11], [12, 2, 3, 13], [14, 1, 15, 16], [17, 18, 19, 20]]\n",
      "{'정말': 18, '끝내주는데': 10, '짜증나': 16, '기분이': 8, '좋은거': 19, '나는': 7, '이뻐': 5, '오늘': 1, '보인다': 6, '좋은': 2, '너': 4, '있나봐': 11, '진짜': 15, '나': 12, '같아': 20, '아': 14, '생겼어': 13, '환상적인데': 17, '더러워': 9, '일이': 3}\n"
     ]
    }
   ],
   "source": [
    "samples = ['너 오늘 이뻐 보인다',\n",
    "          '나는 오늘 기분이 더러워',\n",
    "          '끝내주는데, 좋은 일이 있나봐',\n",
    "          '나 좋은 일이 생겼어',\n",
    "          '아 오늘 진짜 짜증나',\n",
    "          '환상적인데, 정말 좋은거 같아']\n",
    "\n",
    "label = [[1],[0],[1],[1],[0],[1]]\n",
    "\n",
    "#txt to w_index\n",
    "tokenizer = preprocessing.text.Tokenizer()\n",
    "tokenizer.fit_on_texts(samples)\n",
    "sequences = tokenizer.texts_to_sequences(samples)\n",
    "\n",
    "word_index = tokenizer.word_index\n",
    "print(sequences)\n",
    "print(word_index)"
   ]
  },
  {
   "cell_type": "code",
   "execution_count": 16,
   "metadata": {},
   "outputs": [
    {
     "name": "stdout",
     "output_type": "stream",
     "text": [
      "(array([4, 1, 5, 6], dtype=int32), array([1], dtype=int32))\n",
      "(array([7, 1, 8, 9], dtype=int32), array([0], dtype=int32))\n",
      "(array([10,  2,  3, 11], dtype=int32), array([1], dtype=int32))\n",
      "(array([12,  2,  3, 13], dtype=int32), array([1], dtype=int32))\n",
      "(array([14,  1, 15, 16], dtype=int32), array([0], dtype=int32))\n",
      "(array([17, 18, 19, 20], dtype=int32), array([1], dtype=int32))\n"
     ]
    }
   ],
   "source": [
    "# tf.data\n",
    "dataset = tf.data.Dataset.from_tensor_slices((sequences, label)) #sequences와 label을 한번에 묶어줌\n",
    "iterator = dataset.make_one_shot_iterator() #데이터 하나씩 iteration (iter type)\n",
    "next_data = iterator.get_next() # get data from iter type\n",
    "\n",
    "with tf.Session() as sess:\n",
    "    while True:\n",
    "        try:\n",
    "            print(sess.run(next_data))\n",
    "        except tf.errors.OutOfRangeError:\n",
    "            break\n",
    "#와 짱편하다\n"
   ]
  },
  {
   "cell_type": "code",
   "execution_count": 24,
   "metadata": {
    "scrolled": true
   },
   "outputs": [
    {
     "name": "stdout",
     "output_type": "stream",
     "text": [
      "(array([4, 1, 5, 6], dtype=int32), array([1], dtype=int32))\n",
      "(array([7, 1, 8, 9], dtype=int32), array([0], dtype=int32))\n",
      "(array([10,  2,  3, 11], dtype=int32), array([1], dtype=int32))\n",
      "(array([12,  2,  3, 13], dtype=int32), array([1], dtype=int32))\n",
      "(array([14,  1, 15, 16], dtype=int32), array([0], dtype=int32))\n",
      "(array([17, 18, 19, 20], dtype=int32), array([1], dtype=int32))\n",
      "(array([4, 1, 5, 6], dtype=int32), array([1], dtype=int32))\n",
      "(array([7, 1, 8, 9], dtype=int32), array([0], dtype=int32))\n",
      "(array([10,  2,  3, 11], dtype=int32), array([1], dtype=int32))\n",
      "(array([12,  2,  3, 13], dtype=int32), array([1], dtype=int32))\n",
      "(array([14,  1, 15, 16], dtype=int32), array([0], dtype=int32))\n",
      "(array([17, 18, 19, 20], dtype=int32), array([1], dtype=int32))\n",
      "(array([4, 1, 5, 6], dtype=int32), array([1], dtype=int32))\n",
      "(array([7, 1, 8, 9], dtype=int32), array([0], dtype=int32))\n",
      "(array([10,  2,  3, 11], dtype=int32), array([1], dtype=int32))\n",
      "(array([12,  2,  3, 13], dtype=int32), array([1], dtype=int32))\n",
      "(array([14,  1, 15, 16], dtype=int32), array([0], dtype=int32))\n",
      "(array([17, 18, 19, 20], dtype=int32), array([1], dtype=int32))\n",
      "(array([4, 1, 5, 6], dtype=int32), array([1], dtype=int32))\n",
      "(array([7, 1, 8, 9], dtype=int32), array([0], dtype=int32))\n",
      "(array([10,  2,  3, 11], dtype=int32), array([1], dtype=int32))\n",
      "(array([12,  2,  3, 13], dtype=int32), array([1], dtype=int32))\n",
      "(array([14,  1, 15, 16], dtype=int32), array([0], dtype=int32))\n",
      "(array([17, 18, 19, 20], dtype=int32), array([1], dtype=int32))\n",
      "(array([4, 1, 5, 6], dtype=int32), array([1], dtype=int32))\n",
      "(array([7, 1, 8, 9], dtype=int32), array([0], dtype=int32))\n",
      "(array([10,  2,  3, 11], dtype=int32), array([1], dtype=int32))\n",
      "(array([12,  2,  3, 13], dtype=int32), array([1], dtype=int32))\n",
      "(array([14,  1, 15, 16], dtype=int32), array([0], dtype=int32))\n",
      "(array([17, 18, 19, 20], dtype=int32), array([1], dtype=int32))\n",
      "(array([4, 1, 5, 6], dtype=int32), array([1], dtype=int32))\n",
      "(array([7, 1, 8, 9], dtype=int32), array([0], dtype=int32))\n",
      "(array([10,  2,  3, 11], dtype=int32), array([1], dtype=int32))\n",
      "(array([12,  2,  3, 13], dtype=int32), array([1], dtype=int32))\n",
      "(array([14,  1, 15, 16], dtype=int32), array([0], dtype=int32))\n",
      "(array([17, 18, 19, 20], dtype=int32), array([1], dtype=int32))\n"
     ]
    }
   ],
   "source": [
    "#BATCH, shuffle, epoch 적용\n",
    "BATCH_SIZE = 2\n",
    "EPOCH = 2\n",
    "dataset = tf.data.Dataset.from_tensor_slices((sequences, label))\n",
    "#dataset = dataset.batch(BATCH_SIZE) #batch\n",
    "#dataset = dataset.shuffle(len(sequences)) #shuffle\n",
    "dataset = dataset.repeat(len(sequences)) #epoch \n",
    "iterator = dataset.make_one_shot_iterator()\n",
    "next_data = iterator.get_next()\n",
    "\n",
    "with tf.Session() as sess:\n",
    "    while True:\n",
    "        try:\n",
    "            print(sess.run(next_data))\n",
    "        except tf.errors.OutOfRangeError:\n",
    "            break\n",
    "            "
   ]
  },
  {
   "cell_type": "code",
   "execution_count": 25,
   "metadata": {},
   "outputs": [
    {
     "name": "stdout",
     "output_type": "stream",
     "text": [
      "({'x': array([4, 1, 5, 6], dtype=int32)}, array([1], dtype=int32))\n",
      "({'x': array([7, 1, 8, 9], dtype=int32)}, array([0], dtype=int32))\n",
      "({'x': array([10,  2,  3, 11], dtype=int32)}, array([1], dtype=int32))\n",
      "({'x': array([12,  2,  3, 13], dtype=int32)}, array([1], dtype=int32))\n",
      "({'x': array([14,  1, 15, 16], dtype=int32)}, array([0], dtype=int32))\n",
      "({'x': array([17, 18, 19, 20], dtype=int32)}, array([1], dtype=int32))\n"
     ]
    }
   ],
   "source": [
    "#mapping - input이 다수일 때 \n",
    "def mapping_fn(X, Y=None):\n",
    "    input = {'x':X}\n",
    "    label = Y\n",
    "    return input, label\n",
    "\n",
    "dataset = tf.data.Dataset.from_tensor_slices((sequences, label))\n",
    "dataset = dataset.map(mapping_fn) \n",
    "iterator = dataset.make_one_shot_iterator()\n",
    "next_data = iterator.get_next()\n",
    "\n",
    "with tf.Session() as sess:\n",
    "    while True:\n",
    "        try:\n",
    "            print(sess.run(next_data))\n",
    "        except tf.errors.OutOfRangeError:\n",
    "            break"
   ]
  },
  {
   "cell_type": "code",
   "execution_count": 26,
   "metadata": {
    "scrolled": true
   },
   "outputs": [
    {
     "name": "stdout",
     "output_type": "stream",
     "text": [
      "({'x': array([[12,  2,  3, 13],\n",
      "       [14,  1, 15, 16]], dtype=int32)}, array([[1],\n",
      "       [0]], dtype=int32))\n",
      "({'x': array([[ 4,  1,  5,  6],\n",
      "       [17, 18, 19, 20]], dtype=int32)}, array([[1],\n",
      "       [1]], dtype=int32))\n",
      "({'x': array([[10,  2,  3, 11],\n",
      "       [ 7,  1,  8,  9]], dtype=int32)}, array([[1],\n",
      "       [0]], dtype=int32))\n",
      "({'x': array([[ 7,  1,  8,  9],\n",
      "       [17, 18, 19, 20]], dtype=int32)}, array([[0],\n",
      "       [1]], dtype=int32))\n",
      "({'x': array([[10,  2,  3, 11],\n",
      "       [12,  2,  3, 13]], dtype=int32)}, array([[1],\n",
      "       [1]], dtype=int32))\n",
      "({'x': array([[14,  1, 15, 16],\n",
      "       [ 4,  1,  5,  6]], dtype=int32)}, array([[0],\n",
      "       [1]], dtype=int32))\n",
      "({'x': array([[ 7,  1,  8,  9],\n",
      "       [12,  2,  3, 13]], dtype=int32)}, array([[0],\n",
      "       [1]], dtype=int32))\n",
      "({'x': array([[17, 18, 19, 20],\n",
      "       [10,  2,  3, 11]], dtype=int32)}, array([[1],\n",
      "       [1]], dtype=int32))\n",
      "({'x': array([[ 4,  1,  5,  6],\n",
      "       [14,  1, 15, 16]], dtype=int32)}, array([[1],\n",
      "       [0]], dtype=int32))\n",
      "({'x': array([[10,  2,  3, 11],\n",
      "       [ 7,  1,  8,  9]], dtype=int32)}, array([[1],\n",
      "       [0]], dtype=int32))\n",
      "({'x': array([[ 4,  1,  5,  6],\n",
      "       [12,  2,  3, 13]], dtype=int32)}, array([[1],\n",
      "       [1]], dtype=int32))\n",
      "({'x': array([[14,  1, 15, 16],\n",
      "       [17, 18, 19, 20]], dtype=int32)}, array([[0],\n",
      "       [1]], dtype=int32))\n",
      "({'x': array([[17, 18, 19, 20],\n",
      "       [10,  2,  3, 11]], dtype=int32)}, array([[1],\n",
      "       [1]], dtype=int32))\n",
      "({'x': array([[14,  1, 15, 16],\n",
      "       [ 7,  1,  8,  9]], dtype=int32)}, array([[0],\n",
      "       [0]], dtype=int32))\n",
      "({'x': array([[ 4,  1,  5,  6],\n",
      "       [12,  2,  3, 13]], dtype=int32)}, array([[1],\n",
      "       [1]], dtype=int32))\n",
      "({'x': array([[ 7,  1,  8,  9],\n",
      "       [12,  2,  3, 13]], dtype=int32)}, array([[0],\n",
      "       [1]], dtype=int32))\n",
      "({'x': array([[ 4,  1,  5,  6],\n",
      "       [17, 18, 19, 20]], dtype=int32)}, array([[1],\n",
      "       [1]], dtype=int32))\n",
      "({'x': array([[14,  1, 15, 16],\n",
      "       [10,  2,  3, 11]], dtype=int32)}, array([[0],\n",
      "       [1]], dtype=int32))\n"
     ]
    }
   ],
   "source": [
    "def mapping_fn(X, Y=None):\n",
    "    input = {'x':X}\n",
    "    label = Y\n",
    "    return input, label\n",
    "\n",
    "dataset = tf.data.Dataset.from_tensor_slices((sequences, label))\n",
    "dataset = dataset.map(mapping_fn) \n",
    "dataset = dataset.shuffle(len(sequences)) #shuffle\n",
    "dataset = dataset.batch(BATCH_SIZE) #batch\n",
    "dataset = dataset.repeat(len(sequences)) #epoch \n",
    "iterator = dataset.make_one_shot_iterator()\n",
    "next_data = iterator.get_next()\n",
    "\n",
    "with tf.Session() as sess:\n",
    "    while True:\n",
    "        try:\n",
    "            print(sess.run(next_data))\n",
    "        except tf.errors.OutOfRangeError:\n",
    "            break"
   ]
  },
  {
   "cell_type": "code",
   "execution_count": null,
   "metadata": {},
   "outputs": [],
   "source": []
  }
 ],
 "metadata": {
  "kernelspec": {
   "display_name": "Python 3",
   "language": "python",
   "name": "python3"
  },
  "language_info": {
   "codemirror_mode": {
    "name": "ipython",
    "version": 3
   },
   "file_extension": ".py",
   "mimetype": "text/x-python",
   "name": "python",
   "nbconvert_exporter": "python",
   "pygments_lexer": "ipython3",
   "version": "3.7.3"
  }
 },
 "nbformat": 4,
 "nbformat_minor": 2
}
